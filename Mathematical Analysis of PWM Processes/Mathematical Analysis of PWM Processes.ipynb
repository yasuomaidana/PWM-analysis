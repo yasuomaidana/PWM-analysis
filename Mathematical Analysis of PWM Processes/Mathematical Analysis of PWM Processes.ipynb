{
 "cells": [
  {
   "cell_type": "markdown",
   "id": "f16f3212",
   "metadata": {},
   "source": [
    "# Lecture notes\n",
    "\n",
    "In this file you will find notes and scripts related to *[Mathematical Analysis of PWM Processes](https://eprints.nottingham.ac.uk/13021/1/Mathematical_Analysis_of_PWM_Processes.pdf)* by Gregory R. Ainslie-Malik from The University of Nottingham"
   ]
  },
  {
   "cell_type": "markdown",
   "id": "7bb96688",
   "metadata": {},
   "source": [
    "# 1 Inverter design\n",
    "* All inverter are supplied by an upper DC source of a prescribed voltage, and a lower DC source of a prescribed voltage.\n",
    "* Three-phase inverters are commonly used for variable-frequency drive applications, which control the speed of an AC motor by adjusting the frequency of the electrical power supply."
   ]
  },
  {
   "cell_type": "markdown",
   "id": "80a8a343",
   "metadata": {},
   "source": [
    "# 2 PWM Methods\n",
    "* PWM is a  high-frequency modulation strategy, made feasible by transistor, which can operate at the required high frequencies.\n",
    "* PWM generates a square wave that switches between two values at a high frequencies, modulating the width of the pulses\n",
    "\n",
    "![PWM parts](media/pwm%20parts.jpg)\n",
    "![Sinusoidal PWM: (a) triangular carrier wave and sinusoidal reference signal, (b) gate pulse signal](media/Sinusoidal-PWM-a-triangular-carrier-wave-and-sinusoidal-reference-signal-b-gate.png)\n",
    "\n",
    "* The square wave is constructed to have low-frequency components that provide a good approximation to the signal wave. In order to achieve this, the switch times of the square wave are determined by samples of the signal wave.\n",
    "* There are two common sampling methods, known as *uniform* (or *regular*) and *natural* sampling. PWM inverters use both uniform and natural sampling.\n",
    "    * Samples of the signal wave are taken at fixed intervals when using uniform sampling\n",
    "![](media/uniform%20and%20natural%20sampling.PNG)"
   ]
  },
  {
   "cell_type": "code",
   "execution_count": 2,
   "id": "9c714978",
   "metadata": {},
   "outputs": [
    {
     "name": "stdout",
     "output_type": "stream",
     "text": [
      "18.900000000000002\n"
     ]
    }
   ],
   "source": [
    "M = 0.9\n",
    "ws = 1\n",
    "wc = 21*ws\n",
    "print(wc*M)"
   ]
  },
  {
   "cell_type": "code",
   "execution_count": null,
   "id": "48492419",
   "metadata": {},
   "outputs": [],
   "source": []
  }
 ],
 "metadata": {
  "kernelspec": {
   "display_name": "Python 3 (ipykernel)",
   "language": "python",
   "name": "python3"
  },
  "language_info": {
   "codemirror_mode": {
    "name": "ipython",
    "version": 3
   },
   "file_extension": ".py",
   "mimetype": "text/x-python",
   "name": "python",
   "nbconvert_exporter": "python",
   "pygments_lexer": "ipython3",
   "version": "3.8.13"
  }
 },
 "nbformat": 4,
 "nbformat_minor": 5
}
